{
 "cells": [
  {
   "cell_type": "code",
   "execution_count": 1,
   "metadata": {},
   "outputs": [],
   "source": [
    "from quantopian.pipeline import Pipeline"
   ]
  },
  {
   "cell_type": "code",
   "execution_count": 2,
   "metadata": {},
   "outputs": [],
   "source": [
    "def make_pipeline():\n",
    "    return Pipeline()"
   ]
  },
  {
   "cell_type": "code",
   "execution_count": 3,
   "metadata": {},
   "outputs": [],
   "source": [
    "pipe = make_pipeline()"
   ]
  },
  {
   "cell_type": "code",
   "execution_count": 4,
   "metadata": {},
   "outputs": [],
   "source": [
    "from quantopian.research import run_pipeline"
   ]
  },
  {
   "cell_type": "code",
   "execution_count": 5,
   "metadata": {},
   "outputs": [
    {
     "data": {
      "application/vnd.jupyter.widget-view+json": {
       "model_id": "",
       "version_major": 2,
       "version_minor": 0
      },
      "text/plain": []
     },
     "metadata": {},
     "output_type": "display_data"
    },
    {
     "data": {
      "text/html": [
       "<b>Pipeline Execution Time:</b> 1.31 Seconds"
      ],
      "text/plain": [
       "<IPython.core.display.HTML object>"
      ]
     },
     "metadata": {},
     "output_type": "display_data"
    }
   ],
   "source": [
    "result = run_pipeline(pipe,'2017-01-01','2017-01-01')"
   ]
  },
  {
   "cell_type": "code",
   "execution_count": 6,
   "metadata": {},
   "outputs": [
    {
     "data": {
      "text/html": [
       "<div>\n",
       "<table border=\"1\" class=\"dataframe\">\n",
       "  <thead>\n",
       "    <tr style=\"text-align: right;\">\n",
       "      <th></th>\n",
       "      <th></th>\n",
       "    </tr>\n",
       "  </thead>\n",
       "  <tbody>\n",
       "    <tr>\n",
       "      <th rowspan=\"5\" valign=\"top\">2017-01-03 00:00:00+00:00</th>\n",
       "      <th>Equity(2 [HWM])</th>\n",
       "    </tr>\n",
       "    <tr>\n",
       "      <th>Equity(21 [AAME])</th>\n",
       "    </tr>\n",
       "    <tr>\n",
       "      <th>Equity(24 [AAPL])</th>\n",
       "    </tr>\n",
       "    <tr>\n",
       "      <th>Equity(25 [HWM_PR])</th>\n",
       "    </tr>\n",
       "    <tr>\n",
       "      <th>Equity(31 [ABAX])</th>\n",
       "    </tr>\n",
       "  </tbody>\n",
       "</table>\n",
       "</div>"
      ],
      "text/plain": [
       "Empty DataFrame\n",
       "Columns: []\n",
       "Index: [(2017-01-03 00:00:00+00:00, Equity(2 [HWM])), (2017-01-03 00:00:00+00:00, Equity(21 [AAME])), (2017-01-03 00:00:00+00:00, Equity(24 [AAPL])), (2017-01-03 00:00:00+00:00, Equity(25 [HWM_PR])), (2017-01-03 00:00:00+00:00, Equity(31 [ABAX]))]"
      ]
     },
     "execution_count": 6,
     "metadata": {},
     "output_type": "execute_result"
    }
   ],
   "source": [
    "result.head()"
   ]
  },
  {
   "cell_type": "code",
   "execution_count": 7,
   "metadata": {},
   "outputs": [
    {
     "name": "stdout",
     "output_type": "stream",
     "text": [
      "<class 'pandas.core.frame.DataFrame'>\n",
      "MultiIndex: 8357 entries, (2017-01-03 00:00:00+00:00, Equity(2 [HWM])) to (2017-01-03 00:00:00+00:00, Equity(50569 [OUSM]))\n",
      "Empty DataFrame"
     ]
    }
   ],
   "source": [
    "result.info()"
   ]
  },
  {
   "cell_type": "code",
   "execution_count": 8,
   "metadata": {},
   "outputs": [],
   "source": [
    "from quantopian.pipeline.data.builtin import USEquityPricing"
   ]
  },
  {
   "cell_type": "code",
   "execution_count": 9,
   "metadata": {},
   "outputs": [],
   "source": [
    "from quantopian.pipeline.factors import BollingerBands,SimpleMovingAverage,EWMA"
   ]
  },
  {
   "cell_type": "code",
   "execution_count": 10,
   "metadata": {},
   "outputs": [
    {
     "data": {
      "text/plain": [
       "SimpleMovingAverage([EquityPricing<US>.close], 30)"
      ]
     },
     "execution_count": 10,
     "metadata": {},
     "output_type": "execute_result"
    }
   ],
   "source": [
    "SimpleMovingAverage(inputs=[USEquityPricing.close],window_length=30)"
   ]
  },
  {
   "cell_type": "code",
   "execution_count": 11,
   "metadata": {},
   "outputs": [],
   "source": [
    "def make_pipeline():\n",
    "    \n",
    "    mean_close_30 = SimpleMovingAverage(inputs=[USEquityPricing.close],window_length=30)\n",
    "    \n",
    "    return Pipeline(columns={\n",
    "        '30 Day Mean Close':mean_close_30\n",
    "    })"
   ]
  },
  {
   "cell_type": "code",
   "execution_count": 12,
   "metadata": {},
   "outputs": [
    {
     "data": {
      "application/vnd.jupyter.widget-view+json": {
       "model_id": "",
       "version_major": 2,
       "version_minor": 0
      },
      "text/plain": []
     },
     "metadata": {},
     "output_type": "display_data"
    },
    {
     "data": {
      "text/html": [
       "<b>Pipeline Execution Time:</b> 0.82 Seconds"
      ],
      "text/plain": [
       "<IPython.core.display.HTML object>"
      ]
     },
     "metadata": {},
     "output_type": "display_data"
    }
   ],
   "source": [
    "results = run_pipeline(make_pipeline(),'2017-01-01','2017-01-01')"
   ]
  },
  {
   "cell_type": "code",
   "execution_count": 13,
   "metadata": {},
   "outputs": [
    {
     "data": {
      "text/html": [
       "<div>\n",
       "<table border=\"1\" class=\"dataframe\">\n",
       "  <thead>\n",
       "    <tr style=\"text-align: right;\">\n",
       "      <th></th>\n",
       "      <th></th>\n",
       "      <th>30 Day Mean Close</th>\n",
       "    </tr>\n",
       "  </thead>\n",
       "  <tbody>\n",
       "    <tr>\n",
       "      <th rowspan=\"20\" valign=\"top\">2017-01-03 00:00:00+00:00</th>\n",
       "      <th>Equity(2 [HWM])</th>\n",
       "      <td>20.110500</td>\n",
       "    </tr>\n",
       "    <tr>\n",
       "      <th>Equity(21 [AAME])</th>\n",
       "      <td>3.899241</td>\n",
       "    </tr>\n",
       "    <tr>\n",
       "      <th>Equity(24 [AAPL])</th>\n",
       "      <td>113.368433</td>\n",
       "    </tr>\n",
       "    <tr>\n",
       "      <th>Equity(25 [HWM_PR])</th>\n",
       "      <td>86.796111</td>\n",
       "    </tr>\n",
       "    <tr>\n",
       "      <th>Equity(31 [ABAX])</th>\n",
       "      <td>52.498394</td>\n",
       "    </tr>\n",
       "    <tr>\n",
       "      <th>Equity(39 [DDC])</th>\n",
       "      <td>9.523000</td>\n",
       "    </tr>\n",
       "    <tr>\n",
       "      <th>Equity(41 [ARCB])</th>\n",
       "      <td>29.969167</td>\n",
       "    </tr>\n",
       "    <tr>\n",
       "      <th>Equity(52 [ABM])</th>\n",
       "      <td>42.138239</td>\n",
       "    </tr>\n",
       "    <tr>\n",
       "      <th>Equity(53 [ABMD])</th>\n",
       "      <td>114.030167</td>\n",
       "    </tr>\n",
       "    <tr>\n",
       "      <th>Equity(62 [ABT])</th>\n",
       "      <td>38.664333</td>\n",
       "    </tr>\n",
       "    <tr>\n",
       "      <th>Equity(64 [GOLD])</th>\n",
       "      <td>15.117736</td>\n",
       "    </tr>\n",
       "    <tr>\n",
       "      <th>Equity(66 [AB])</th>\n",
       "      <td>23.119167</td>\n",
       "    </tr>\n",
       "    <tr>\n",
       "      <th>Equity(67 [ADSK])</th>\n",
       "      <td>75.960667</td>\n",
       "    </tr>\n",
       "    <tr>\n",
       "      <th>Equity(69 [ACAT])</th>\n",
       "      <td>15.839500</td>\n",
       "    </tr>\n",
       "    <tr>\n",
       "      <th>Equity(70 [VBF])</th>\n",
       "      <td>18.208480</td>\n",
       "    </tr>\n",
       "    <tr>\n",
       "      <th>Equity(76 [TAP])</th>\n",
       "      <td>97.727924</td>\n",
       "    </tr>\n",
       "    <tr>\n",
       "      <th>Equity(84 [ACET])</th>\n",
       "      <td>20.722753</td>\n",
       "    </tr>\n",
       "    <tr>\n",
       "      <th>Equity(100 [IEP])</th>\n",
       "      <td>59.281167</td>\n",
       "    </tr>\n",
       "    <tr>\n",
       "      <th>Equity(106 [ACU])</th>\n",
       "      <td>22.628433</td>\n",
       "    </tr>\n",
       "    <tr>\n",
       "      <th>Equity(110 [RAMP])</th>\n",
       "      <td>26.800333</td>\n",
       "    </tr>\n",
       "  </tbody>\n",
       "</table>\n",
       "</div>"
      ],
      "text/plain": [
       "                                               30 Day Mean Close\n",
       "2017-01-03 00:00:00+00:00 Equity(2 [HWM])              20.110500\n",
       "                          Equity(21 [AAME])             3.899241\n",
       "                          Equity(24 [AAPL])           113.368433\n",
       "                          Equity(25 [HWM_PR])          86.796111\n",
       "                          Equity(31 [ABAX])            52.498394\n",
       "                          Equity(39 [DDC])              9.523000\n",
       "                          Equity(41 [ARCB])            29.969167\n",
       "                          Equity(52 [ABM])             42.138239\n",
       "                          Equity(53 [ABMD])           114.030167\n",
       "                          Equity(62 [ABT])             38.664333\n",
       "                          Equity(64 [GOLD])            15.117736\n",
       "                          Equity(66 [AB])              23.119167\n",
       "                          Equity(67 [ADSK])            75.960667\n",
       "                          Equity(69 [ACAT])            15.839500\n",
       "                          Equity(70 [VBF])             18.208480\n",
       "                          Equity(76 [TAP])             97.727924\n",
       "                          Equity(84 [ACET])            20.722753\n",
       "                          Equity(100 [IEP])            59.281167\n",
       "                          Equity(106 [ACU])            22.628433\n",
       "                          Equity(110 [RAMP])           26.800333"
      ]
     },
     "execution_count": 13,
     "metadata": {},
     "output_type": "execute_result"
    }
   ],
   "source": [
    "results.head(20)"
   ]
  },
  {
   "cell_type": "code",
   "execution_count": 14,
   "metadata": {},
   "outputs": [],
   "source": [
    "def make_pipeline():\n",
    "    \n",
    "    mean_close_30 = SimpleMovingAverage(inputs=[USEquityPricing.close],window_length=30)\n",
    "    latest_close = USEquityPricing.close.latest\n",
    "    \n",
    "    return Pipeline(columns={\n",
    "        '30 Day Mean Close':mean_close_30,\n",
    "        'Latest Close':latest_close\n",
    "    })"
   ]
  },
  {
   "cell_type": "code",
   "execution_count": 15,
   "metadata": {},
   "outputs": [
    {
     "data": {
      "application/vnd.jupyter.widget-view+json": {
       "model_id": "",
       "version_major": 2,
       "version_minor": 0
      },
      "text/plain": []
     },
     "metadata": {},
     "output_type": "display_data"
    },
    {
     "data": {
      "text/html": [
       "<b>Pipeline Execution Time:</b> 0.42 Seconds"
      ],
      "text/plain": [
       "<IPython.core.display.HTML object>"
      ]
     },
     "metadata": {},
     "output_type": "display_data"
    }
   ],
   "source": [
    "results = run_pipeline(make_pipeline(),'2017-01-01','2017-01-01')"
   ]
  },
  {
   "cell_type": "code",
   "execution_count": 20,
   "metadata": {},
   "outputs": [
    {
     "data": {
      "text/html": [
       "<div>\n",
       "<table border=\"1\" class=\"dataframe\">\n",
       "  <thead>\n",
       "    <tr style=\"text-align: right;\">\n",
       "      <th></th>\n",
       "      <th></th>\n",
       "      <th>30 Day Mean Close</th>\n",
       "      <th>Latest Close</th>\n",
       "      <th>Percent Difference</th>\n",
       "    </tr>\n",
       "  </thead>\n",
       "  <tbody>\n",
       "    <tr>\n",
       "      <th rowspan=\"5\" valign=\"top\">2017-01-03 00:00:00+00:00</th>\n",
       "      <th>Equity(2 [HWM])</th>\n",
       "      <td>20.110500</td>\n",
       "      <td>18.55</td>\n",
       "      <td>-0.022749</td>\n",
       "    </tr>\n",
       "    <tr>\n",
       "      <th>Equity(21 [AAME])</th>\n",
       "      <td>3.899241</td>\n",
       "      <td>4.10</td>\n",
       "      <td>-0.005499</td>\n",
       "    </tr>\n",
       "    <tr>\n",
       "      <th>Equity(24 [AAPL])</th>\n",
       "      <td>113.368433</td>\n",
       "      <td>115.84</td>\n",
       "      <td>0.028481</td>\n",
       "    </tr>\n",
       "    <tr>\n",
       "      <th>Equity(25 [HWM_PR])</th>\n",
       "      <td>86.796111</td>\n",
       "      <td>NaN</td>\n",
       "      <td>-0.000474</td>\n",
       "    </tr>\n",
       "    <tr>\n",
       "      <th>Equity(31 [ABAX])</th>\n",
       "      <td>52.498394</td>\n",
       "      <td>52.74</td>\n",
       "      <td>-0.007665</td>\n",
       "    </tr>\n",
       "  </tbody>\n",
       "</table>\n",
       "</div>"
      ],
      "text/plain": [
       "                                               30 Day Mean Close  \\\n",
       "2017-01-03 00:00:00+00:00 Equity(2 [HWM])              20.110500   \n",
       "                          Equity(21 [AAME])             3.899241   \n",
       "                          Equity(24 [AAPL])           113.368433   \n",
       "                          Equity(25 [HWM_PR])          86.796111   \n",
       "                          Equity(31 [ABAX])            52.498394   \n",
       "\n",
       "                                               Latest Close  \\\n",
       "2017-01-03 00:00:00+00:00 Equity(2 [HWM])             18.55   \n",
       "                          Equity(21 [AAME])            4.10   \n",
       "                          Equity(24 [AAPL])          115.84   \n",
       "                          Equity(25 [HWM_PR])           NaN   \n",
       "                          Equity(31 [ABAX])           52.74   \n",
       "\n",
       "                                               Percent Difference  \n",
       "2017-01-03 00:00:00+00:00 Equity(2 [HWM])               -0.022749  \n",
       "                          Equity(21 [AAME])             -0.005499  \n",
       "                          Equity(24 [AAPL])              0.028481  \n",
       "                          Equity(25 [HWM_PR])           -0.000474  \n",
       "                          Equity(31 [ABAX])             -0.007665  "
      ]
     },
     "execution_count": 20,
     "metadata": {},
     "output_type": "execute_result"
    }
   ],
   "source": [
    "results.head()"
   ]
  },
  {
   "cell_type": "code",
   "execution_count": 17,
   "metadata": {},
   "outputs": [],
   "source": [
    "def make_pipeline():\n",
    "    \n",
    "    mean_close_10 = SimpleMovingAverage(inputs=[USEquityPricing.close],window_length=10)\n",
    "    mean_close_30 = SimpleMovingAverage(inputs=[USEquityPricing.close],window_length=30)\n",
    "    latest_close = USEquityPricing.close.latest\n",
    "    \n",
    "    percent_difference = (mean_close_10-mean_close_30) / mean_close_30\n",
    "    \n",
    "    return Pipeline(columns={\n",
    "        'Percent Difference':percent_difference,\n",
    "        '30 Day Mean Close':mean_close_30,\n",
    "        'Latest Close':latest_close\n",
    "    })"
   ]
  },
  {
   "cell_type": "code",
   "execution_count": 18,
   "metadata": {},
   "outputs": [
    {
     "data": {
      "application/vnd.jupyter.widget-view+json": {
       "model_id": "",
       "version_major": 2,
       "version_minor": 0
      },
      "text/plain": []
     },
     "metadata": {},
     "output_type": "display_data"
    },
    {
     "data": {
      "text/html": [
       "<b>Pipeline Execution Time:</b> 0.42 Seconds"
      ],
      "text/plain": [
       "<IPython.core.display.HTML object>"
      ]
     },
     "metadata": {},
     "output_type": "display_data"
    }
   ],
   "source": [
    "results = run_pipeline(make_pipeline(),'2017-01-01','2017-01-01')"
   ]
  },
  {
   "cell_type": "code",
   "execution_count": 19,
   "metadata": {},
   "outputs": [
    {
     "data": {
      "text/html": [
       "<div>\n",
       "<table border=\"1\" class=\"dataframe\">\n",
       "  <thead>\n",
       "    <tr style=\"text-align: right;\">\n",
       "      <th></th>\n",
       "      <th></th>\n",
       "      <th>30 Day Mean Close</th>\n",
       "      <th>Latest Close</th>\n",
       "      <th>Percent Difference</th>\n",
       "    </tr>\n",
       "  </thead>\n",
       "  <tbody>\n",
       "    <tr>\n",
       "      <th rowspan=\"5\" valign=\"top\">2017-01-03 00:00:00+00:00</th>\n",
       "      <th>Equity(2 [HWM])</th>\n",
       "      <td>20.110500</td>\n",
       "      <td>18.55</td>\n",
       "      <td>-0.022749</td>\n",
       "    </tr>\n",
       "    <tr>\n",
       "      <th>Equity(21 [AAME])</th>\n",
       "      <td>3.899241</td>\n",
       "      <td>4.10</td>\n",
       "      <td>-0.005499</td>\n",
       "    </tr>\n",
       "    <tr>\n",
       "      <th>Equity(24 [AAPL])</th>\n",
       "      <td>113.368433</td>\n",
       "      <td>115.84</td>\n",
       "      <td>0.028481</td>\n",
       "    </tr>\n",
       "    <tr>\n",
       "      <th>Equity(25 [HWM_PR])</th>\n",
       "      <td>86.796111</td>\n",
       "      <td>NaN</td>\n",
       "      <td>-0.000474</td>\n",
       "    </tr>\n",
       "    <tr>\n",
       "      <th>Equity(31 [ABAX])</th>\n",
       "      <td>52.498394</td>\n",
       "      <td>52.74</td>\n",
       "      <td>-0.007665</td>\n",
       "    </tr>\n",
       "  </tbody>\n",
       "</table>\n",
       "</div>"
      ],
      "text/plain": [
       "                                               30 Day Mean Close  \\\n",
       "2017-01-03 00:00:00+00:00 Equity(2 [HWM])              20.110500   \n",
       "                          Equity(21 [AAME])             3.899241   \n",
       "                          Equity(24 [AAPL])           113.368433   \n",
       "                          Equity(25 [HWM_PR])          86.796111   \n",
       "                          Equity(31 [ABAX])            52.498394   \n",
       "\n",
       "                                               Latest Close  \\\n",
       "2017-01-03 00:00:00+00:00 Equity(2 [HWM])             18.55   \n",
       "                          Equity(21 [AAME])            4.10   \n",
       "                          Equity(24 [AAPL])          115.84   \n",
       "                          Equity(25 [HWM_PR])           NaN   \n",
       "                          Equity(31 [ABAX])           52.74   \n",
       "\n",
       "                                               Percent Difference  \n",
       "2017-01-03 00:00:00+00:00 Equity(2 [HWM])               -0.022749  \n",
       "                          Equity(21 [AAME])             -0.005499  \n",
       "                          Equity(24 [AAPL])              0.028481  \n",
       "                          Equity(25 [HWM_PR])           -0.000474  \n",
       "                          Equity(31 [ABAX])             -0.007665  "
      ]
     },
     "execution_count": 19,
     "metadata": {},
     "output_type": "execute_result"
    }
   ],
   "source": [
    "results.head()"
   ]
  },
  {
   "cell_type": "code",
   "execution_count": 21,
   "metadata": {},
   "outputs": [],
   "source": [
    "last_close_price = USEquityPricing.close.latest\n",
    "close_price_filter = last_close_price > 20"
   ]
  },
  {
   "cell_type": "code",
   "execution_count": 22,
   "metadata": {},
   "outputs": [
    {
     "data": {
      "text/plain": [
       "NumExprFilter(expr='x_0 > (20.0)', bindings={'x_0': Latest([EquityPricing<US>.close], 1)})"
      ]
     },
     "execution_count": 22,
     "metadata": {},
     "output_type": "execute_result"
    }
   ],
   "source": [
    "close_price_filter"
   ]
  },
  {
   "cell_type": "code",
   "execution_count": 23,
   "metadata": {},
   "outputs": [],
   "source": [
    "def make_pipeline():\n",
    "    \n",
    "    mean_close_10 = SimpleMovingAverage(inputs=[USEquityPricing.close],window_length=10)\n",
    "    mean_close_30 = SimpleMovingAverage(inputs=[USEquityPricing.close],window_length=30)\n",
    "    latest_close = USEquityPricing.close.latest\n",
    "    \n",
    "    percent_difference = (mean_close_10-mean_close_30) / mean_close_30\n",
    "    \n",
    "    perc_diff_check = percent_difference > 0 \n",
    "    \n",
    "    return Pipeline(columns={\n",
    "        'Percent Difference':percent_difference,\n",
    "        '30 Day Mean Close':mean_close_30,\n",
    "        'Latest Close':latest_close,\n",
    "        'Positive Percent Diff': perc_diff_check\n",
    "    })"
   ]
  },
  {
   "cell_type": "code",
   "execution_count": 24,
   "metadata": {},
   "outputs": [
    {
     "data": {
      "application/vnd.jupyter.widget-view+json": {
       "model_id": "",
       "version_major": 2,
       "version_minor": 0
      },
      "text/plain": []
     },
     "metadata": {},
     "output_type": "display_data"
    },
    {
     "data": {
      "text/html": [
       "<b>Pipeline Execution Time:</b> 0.44 Seconds"
      ],
      "text/plain": [
       "<IPython.core.display.HTML object>"
      ]
     },
     "metadata": {},
     "output_type": "display_data"
    },
    {
     "data": {
      "text/html": [
       "<div>\n",
       "<table border=\"1\" class=\"dataframe\">\n",
       "  <thead>\n",
       "    <tr style=\"text-align: right;\">\n",
       "      <th></th>\n",
       "      <th></th>\n",
       "      <th>30 Day Mean Close</th>\n",
       "      <th>Latest Close</th>\n",
       "      <th>Percent Difference</th>\n",
       "      <th>Positive Percent Diff</th>\n",
       "    </tr>\n",
       "  </thead>\n",
       "  <tbody>\n",
       "    <tr>\n",
       "      <th rowspan=\"5\" valign=\"top\">2017-01-03 00:00:00+00:00</th>\n",
       "      <th>Equity(2 [HWM])</th>\n",
       "      <td>20.110500</td>\n",
       "      <td>18.55</td>\n",
       "      <td>-0.022749</td>\n",
       "      <td>False</td>\n",
       "    </tr>\n",
       "    <tr>\n",
       "      <th>Equity(21 [AAME])</th>\n",
       "      <td>3.899241</td>\n",
       "      <td>4.10</td>\n",
       "      <td>-0.005499</td>\n",
       "      <td>False</td>\n",
       "    </tr>\n",
       "    <tr>\n",
       "      <th>Equity(24 [AAPL])</th>\n",
       "      <td>113.368433</td>\n",
       "      <td>115.84</td>\n",
       "      <td>0.028481</td>\n",
       "      <td>True</td>\n",
       "    </tr>\n",
       "    <tr>\n",
       "      <th>Equity(25 [HWM_PR])</th>\n",
       "      <td>86.796111</td>\n",
       "      <td>NaN</td>\n",
       "      <td>-0.000474</td>\n",
       "      <td>False</td>\n",
       "    </tr>\n",
       "    <tr>\n",
       "      <th>Equity(31 [ABAX])</th>\n",
       "      <td>52.498394</td>\n",
       "      <td>52.74</td>\n",
       "      <td>-0.007665</td>\n",
       "      <td>False</td>\n",
       "    </tr>\n",
       "  </tbody>\n",
       "</table>\n",
       "</div>"
      ],
      "text/plain": [
       "                                               30 Day Mean Close  \\\n",
       "2017-01-03 00:00:00+00:00 Equity(2 [HWM])              20.110500   \n",
       "                          Equity(21 [AAME])             3.899241   \n",
       "                          Equity(24 [AAPL])           113.368433   \n",
       "                          Equity(25 [HWM_PR])          86.796111   \n",
       "                          Equity(31 [ABAX])            52.498394   \n",
       "\n",
       "                                               Latest Close  \\\n",
       "2017-01-03 00:00:00+00:00 Equity(2 [HWM])             18.55   \n",
       "                          Equity(21 [AAME])            4.10   \n",
       "                          Equity(24 [AAPL])          115.84   \n",
       "                          Equity(25 [HWM_PR])           NaN   \n",
       "                          Equity(31 [ABAX])           52.74   \n",
       "\n",
       "                                               Percent Difference  \\\n",
       "2017-01-03 00:00:00+00:00 Equity(2 [HWM])               -0.022749   \n",
       "                          Equity(21 [AAME])             -0.005499   \n",
       "                          Equity(24 [AAPL])              0.028481   \n",
       "                          Equity(25 [HWM_PR])           -0.000474   \n",
       "                          Equity(31 [ABAX])             -0.007665   \n",
       "\n",
       "                                              Positive Percent Diff  \n",
       "2017-01-03 00:00:00+00:00 Equity(2 [HWM])                     False  \n",
       "                          Equity(21 [AAME])                   False  \n",
       "                          Equity(24 [AAPL])                    True  \n",
       "                          Equity(25 [HWM_PR])                 False  \n",
       "                          Equity(31 [ABAX])                   False  "
      ]
     },
     "execution_count": 24,
     "metadata": {},
     "output_type": "execute_result"
    }
   ],
   "source": [
    "results = run_pipeline(make_pipeline(),'2017-01-01','2017-01-01')\n",
    "results.head()"
   ]
  },
  {
   "cell_type": "code",
   "execution_count": 25,
   "metadata": {},
   "outputs": [],
   "source": [
    "def make_pipeline():\n",
    "    \n",
    "    mean_close_10 = SimpleMovingAverage(inputs=[USEquityPricing.close],window_length=10)\n",
    "    mean_close_30 = SimpleMovingAverage(inputs=[USEquityPricing.close],window_length=30)\n",
    "    latest_close = USEquityPricing.close.latest\n",
    "    \n",
    "    percent_difference = (mean_close_10-mean_close_30) / mean_close_30\n",
    "    \n",
    "    perc_diff_check = percent_difference > 0 \n",
    "    \n",
    "    return Pipeline(columns={\n",
    "                            'Percent Difference':percent_difference,\n",
    "                            '30 Day Mean Close':mean_close_30,\n",
    "                            'Latest Close':latest_close,\n",
    "                            'Positive Percent Diff': perc_diff_check},\n",
    "                    screen=perc_diff_check) #screen=~perc to reverse the filter"
   ]
  },
  {
   "cell_type": "code",
   "execution_count": 26,
   "metadata": {},
   "outputs": [
    {
     "data": {
      "application/vnd.jupyter.widget-view+json": {
       "model_id": "",
       "version_major": 2,
       "version_minor": 0
      },
      "text/plain": []
     },
     "metadata": {},
     "output_type": "display_data"
    },
    {
     "data": {
      "text/html": [
       "<b>Pipeline Execution Time:</b> 0.43 Seconds"
      ],
      "text/plain": [
       "<IPython.core.display.HTML object>"
      ]
     },
     "metadata": {},
     "output_type": "display_data"
    },
    {
     "data": {
      "text/html": [
       "<div>\n",
       "<table border=\"1\" class=\"dataframe\">\n",
       "  <thead>\n",
       "    <tr style=\"text-align: right;\">\n",
       "      <th></th>\n",
       "      <th></th>\n",
       "      <th>30 Day Mean Close</th>\n",
       "      <th>Latest Close</th>\n",
       "      <th>Percent Difference</th>\n",
       "      <th>Positive Percent Diff</th>\n",
       "    </tr>\n",
       "  </thead>\n",
       "  <tbody>\n",
       "    <tr>\n",
       "      <th rowspan=\"5\" valign=\"top\">2017-01-03 00:00:00+00:00</th>\n",
       "      <th>Equity(24 [AAPL])</th>\n",
       "      <td>113.368433</td>\n",
       "      <td>115.84</td>\n",
       "      <td>0.028481</td>\n",
       "      <td>True</td>\n",
       "    </tr>\n",
       "    <tr>\n",
       "      <th>Equity(66 [AB])</th>\n",
       "      <td>23.119167</td>\n",
       "      <td>23.45</td>\n",
       "      <td>0.004578</td>\n",
       "      <td>True</td>\n",
       "    </tr>\n",
       "    <tr>\n",
       "      <th>Equity(69 [ACAT])</th>\n",
       "      <td>15.839500</td>\n",
       "      <td>15.02</td>\n",
       "      <td>0.009375</td>\n",
       "      <td>True</td>\n",
       "    </tr>\n",
       "    <tr>\n",
       "      <th>Equity(70 [VBF])</th>\n",
       "      <td>18.208480</td>\n",
       "      <td>18.49</td>\n",
       "      <td>0.011814</td>\n",
       "      <td>True</td>\n",
       "    </tr>\n",
       "    <tr>\n",
       "      <th>Equity(84 [ACET])</th>\n",
       "      <td>20.722753</td>\n",
       "      <td>21.97</td>\n",
       "      <td>0.039630</td>\n",
       "      <td>True</td>\n",
       "    </tr>\n",
       "  </tbody>\n",
       "</table>\n",
       "</div>"
      ],
      "text/plain": [
       "                                             30 Day Mean Close  Latest Close  \\\n",
       "2017-01-03 00:00:00+00:00 Equity(24 [AAPL])         113.368433        115.84   \n",
       "                          Equity(66 [AB])            23.119167         23.45   \n",
       "                          Equity(69 [ACAT])          15.839500         15.02   \n",
       "                          Equity(70 [VBF])           18.208480         18.49   \n",
       "                          Equity(84 [ACET])          20.722753         21.97   \n",
       "\n",
       "                                             Percent Difference  \\\n",
       "2017-01-03 00:00:00+00:00 Equity(24 [AAPL])            0.028481   \n",
       "                          Equity(66 [AB])              0.004578   \n",
       "                          Equity(69 [ACAT])            0.009375   \n",
       "                          Equity(70 [VBF])             0.011814   \n",
       "                          Equity(84 [ACET])            0.039630   \n",
       "\n",
       "                                            Positive Percent Diff  \n",
       "2017-01-03 00:00:00+00:00 Equity(24 [AAPL])                  True  \n",
       "                          Equity(66 [AB])                    True  \n",
       "                          Equity(69 [ACAT])                  True  \n",
       "                          Equity(70 [VBF])                   True  \n",
       "                          Equity(84 [ACET])                  True  "
      ]
     },
     "execution_count": 26,
     "metadata": {},
     "output_type": "execute_result"
    }
   ],
   "source": [
    "results = run_pipeline(make_pipeline(),'2017-01-01','2017-01-01')\n",
    "results.head()"
   ]
  },
  {
   "cell_type": "code",
   "execution_count": 27,
   "metadata": {},
   "outputs": [],
   "source": [
    "def make_pipeline():\n",
    "    \n",
    "    mean_close_10 = SimpleMovingAverage(inputs=[USEquityPricing.close],window_length=10)\n",
    "    mean_close_30 = SimpleMovingAverage(inputs=[USEquityPricing.close],window_length=30)\n",
    "    latest_close = USEquityPricing.close.latest\n",
    "    \n",
    "    percent_difference = (mean_close_10-mean_close_30) / mean_close_30\n",
    "    \n",
    "    perc_diff_check = percent_difference > 0 \n",
    "    small_price = latest_close < 5\n",
    "    \n",
    "    final_filter = perc_diff_check & small_price\n",
    "    \n",
    "    return Pipeline(columns={\n",
    "                            'Percent Difference':percent_difference,\n",
    "                            '30 Day Mean Close':mean_close_30,\n",
    "                            'Latest Close':latest_close,\n",
    "                            'Positive Percent Diff': perc_diff_check},\n",
    "                    screen=final_filter)"
   ]
  },
  {
   "cell_type": "code",
   "execution_count": 28,
   "metadata": {},
   "outputs": [
    {
     "data": {
      "application/vnd.jupyter.widget-view+json": {
       "model_id": "",
       "version_major": 2,
       "version_minor": 0
      },
      "text/plain": []
     },
     "metadata": {},
     "output_type": "display_data"
    },
    {
     "data": {
      "text/html": [
       "<b>Pipeline Execution Time:</b> 0.42 Seconds"
      ],
      "text/plain": [
       "<IPython.core.display.HTML object>"
      ]
     },
     "metadata": {},
     "output_type": "display_data"
    },
    {
     "data": {
      "text/html": [
       "<div>\n",
       "<table border=\"1\" class=\"dataframe\">\n",
       "  <thead>\n",
       "    <tr style=\"text-align: right;\">\n",
       "      <th></th>\n",
       "      <th></th>\n",
       "      <th>30 Day Mean Close</th>\n",
       "      <th>Latest Close</th>\n",
       "      <th>Percent Difference</th>\n",
       "      <th>Positive Percent Diff</th>\n",
       "    </tr>\n",
       "  </thead>\n",
       "  <tbody>\n",
       "    <tr>\n",
       "      <th rowspan=\"5\" valign=\"top\">2017-01-03 00:00:00+00:00</th>\n",
       "      <th>Equity(535 [ARTW])</th>\n",
       "      <td>3.097778</td>\n",
       "      <td>3.40</td>\n",
       "      <td>0.013271</td>\n",
       "      <td>True</td>\n",
       "    </tr>\n",
       "    <tr>\n",
       "      <th>Equity(677 [AXAS])</th>\n",
       "      <td>2.265333</td>\n",
       "      <td>2.56</td>\n",
       "      <td>0.145527</td>\n",
       "      <td>True</td>\n",
       "    </tr>\n",
       "    <tr>\n",
       "      <th>Equity(1144 [LCTX])</th>\n",
       "      <td>3.531167</td>\n",
       "      <td>3.62</td>\n",
       "      <td>0.065795</td>\n",
       "      <td>True</td>\n",
       "    </tr>\n",
       "    <tr>\n",
       "      <th>Equity(1323 [CAW])</th>\n",
       "      <td>2.541333</td>\n",
       "      <td>2.60</td>\n",
       "      <td>0.016002</td>\n",
       "      <td>True</td>\n",
       "    </tr>\n",
       "    <tr>\n",
       "      <th>Equity(1546 [CIF])</th>\n",
       "      <td>2.500370</td>\n",
       "      <td>2.57</td>\n",
       "      <td>0.015579</td>\n",
       "      <td>True</td>\n",
       "    </tr>\n",
       "  </tbody>\n",
       "</table>\n",
       "</div>"
      ],
      "text/plain": [
       "                                               30 Day Mean Close  \\\n",
       "2017-01-03 00:00:00+00:00 Equity(535 [ARTW])            3.097778   \n",
       "                          Equity(677 [AXAS])            2.265333   \n",
       "                          Equity(1144 [LCTX])           3.531167   \n",
       "                          Equity(1323 [CAW])            2.541333   \n",
       "                          Equity(1546 [CIF])            2.500370   \n",
       "\n",
       "                                               Latest Close  \\\n",
       "2017-01-03 00:00:00+00:00 Equity(535 [ARTW])           3.40   \n",
       "                          Equity(677 [AXAS])           2.56   \n",
       "                          Equity(1144 [LCTX])          3.62   \n",
       "                          Equity(1323 [CAW])           2.60   \n",
       "                          Equity(1546 [CIF])           2.57   \n",
       "\n",
       "                                               Percent Difference  \\\n",
       "2017-01-03 00:00:00+00:00 Equity(535 [ARTW])             0.013271   \n",
       "                          Equity(677 [AXAS])             0.145527   \n",
       "                          Equity(1144 [LCTX])            0.065795   \n",
       "                          Equity(1323 [CAW])             0.016002   \n",
       "                          Equity(1546 [CIF])             0.015579   \n",
       "\n",
       "                                              Positive Percent Diff  \n",
       "2017-01-03 00:00:00+00:00 Equity(535 [ARTW])                   True  \n",
       "                          Equity(677 [AXAS])                   True  \n",
       "                          Equity(1144 [LCTX])                  True  \n",
       "                          Equity(1323 [CAW])                   True  \n",
       "                          Equity(1546 [CIF])                   True  "
      ]
     },
     "execution_count": 28,
     "metadata": {},
     "output_type": "execute_result"
    }
   ],
   "source": [
    "results = run_pipeline(make_pipeline(),'2017-01-01','2017-01-01')\n",
    "results.head()"
   ]
  },
  {
   "cell_type": "code",
   "execution_count": 29,
   "metadata": {},
   "outputs": [],
   "source": [
    "def make_pipeline():\n",
    "    \n",
    "    # Create Filters for Masks First\n",
    "    latest_close = USEquityPricing.close.latest\n",
    "    small_price = latest_close < 5\n",
    "    \n",
    "    # Pass in the mask\n",
    "    mean_close_10 = SimpleMovingAverage(inputs=[USEquityPricing.close],window_length=10,mask=small_price)\n",
    "    mean_close_30 = SimpleMovingAverage(inputs=[USEquityPricing.close],window_length=30,mask=small_price)\n",
    "    \n",
    "    \n",
    "    percent_difference = (mean_close_10-mean_close_30) / mean_close_30\n",
    "    \n",
    "    perc_diff_check = percent_difference > 0 \n",
    "    \n",
    "    \n",
    "    final_filter = perc_diff_check\n",
    "    \n",
    "    return Pipeline(columns={\n",
    "                            'Percent Difference':percent_difference,\n",
    "                            '30 Day Mean Close':mean_close_30,\n",
    "                            'Latest Close':latest_close,\n",
    "                            'Positive Percent Diff': perc_diff_check},\n",
    "                    screen=final_filter)"
   ]
  },
  {
   "cell_type": "code",
   "execution_count": 30,
   "metadata": {},
   "outputs": [
    {
     "data": {
      "application/vnd.jupyter.widget-view+json": {
       "model_id": "",
       "version_major": 2,
       "version_minor": 0
      },
      "text/plain": []
     },
     "metadata": {},
     "output_type": "display_data"
    },
    {
     "data": {
      "text/html": [
       "<b>Pipeline Execution Time:</b> 0.50 Seconds"
      ],
      "text/plain": [
       "<IPython.core.display.HTML object>"
      ]
     },
     "metadata": {},
     "output_type": "display_data"
    },
    {
     "data": {
      "text/html": [
       "<div>\n",
       "<table border=\"1\" class=\"dataframe\">\n",
       "  <thead>\n",
       "    <tr style=\"text-align: right;\">\n",
       "      <th></th>\n",
       "      <th></th>\n",
       "      <th>30 Day Mean Close</th>\n",
       "      <th>Latest Close</th>\n",
       "      <th>Percent Difference</th>\n",
       "      <th>Positive Percent Diff</th>\n",
       "    </tr>\n",
       "  </thead>\n",
       "  <tbody>\n",
       "    <tr>\n",
       "      <th rowspan=\"5\" valign=\"top\">2017-01-03 00:00:00+00:00</th>\n",
       "      <th>Equity(535 [ARTW])</th>\n",
       "      <td>3.097778</td>\n",
       "      <td>3.40</td>\n",
       "      <td>0.013271</td>\n",
       "      <td>True</td>\n",
       "    </tr>\n",
       "    <tr>\n",
       "      <th>Equity(677 [AXAS])</th>\n",
       "      <td>2.265333</td>\n",
       "      <td>2.56</td>\n",
       "      <td>0.145527</td>\n",
       "      <td>True</td>\n",
       "    </tr>\n",
       "    <tr>\n",
       "      <th>Equity(1144 [LCTX])</th>\n",
       "      <td>3.531167</td>\n",
       "      <td>3.62</td>\n",
       "      <td>0.065795</td>\n",
       "      <td>True</td>\n",
       "    </tr>\n",
       "    <tr>\n",
       "      <th>Equity(1323 [CAW])</th>\n",
       "      <td>2.541333</td>\n",
       "      <td>2.60</td>\n",
       "      <td>0.016002</td>\n",
       "      <td>True</td>\n",
       "    </tr>\n",
       "    <tr>\n",
       "      <th>Equity(1546 [CIF])</th>\n",
       "      <td>2.500370</td>\n",
       "      <td>2.57</td>\n",
       "      <td>0.015579</td>\n",
       "      <td>True</td>\n",
       "    </tr>\n",
       "  </tbody>\n",
       "</table>\n",
       "</div>"
      ],
      "text/plain": [
       "                                               30 Day Mean Close  \\\n",
       "2017-01-03 00:00:00+00:00 Equity(535 [ARTW])            3.097778   \n",
       "                          Equity(677 [AXAS])            2.265333   \n",
       "                          Equity(1144 [LCTX])           3.531167   \n",
       "                          Equity(1323 [CAW])            2.541333   \n",
       "                          Equity(1546 [CIF])            2.500370   \n",
       "\n",
       "                                               Latest Close  \\\n",
       "2017-01-03 00:00:00+00:00 Equity(535 [ARTW])           3.40   \n",
       "                          Equity(677 [AXAS])           2.56   \n",
       "                          Equity(1144 [LCTX])          3.62   \n",
       "                          Equity(1323 [CAW])           2.60   \n",
       "                          Equity(1546 [CIF])           2.57   \n",
       "\n",
       "                                               Percent Difference  \\\n",
       "2017-01-03 00:00:00+00:00 Equity(535 [ARTW])             0.013271   \n",
       "                          Equity(677 [AXAS])             0.145527   \n",
       "                          Equity(1144 [LCTX])            0.065795   \n",
       "                          Equity(1323 [CAW])             0.016002   \n",
       "                          Equity(1546 [CIF])             0.015579   \n",
       "\n",
       "                                              Positive Percent Diff  \n",
       "2017-01-03 00:00:00+00:00 Equity(535 [ARTW])                   True  \n",
       "                          Equity(677 [AXAS])                   True  \n",
       "                          Equity(1144 [LCTX])                  True  \n",
       "                          Equity(1323 [CAW])                   True  \n",
       "                          Equity(1546 [CIF])                   True  "
      ]
     },
     "execution_count": 30,
     "metadata": {},
     "output_type": "execute_result"
    }
   ],
   "source": [
    "results = run_pipeline(make_pipeline(),'2017-01-01','2017-01-01')\n",
    "results.head()"
   ]
  },
  {
   "cell_type": "code",
   "execution_count": 31,
   "metadata": {},
   "outputs": [],
   "source": [
    "from quantopian.pipeline.data import morningstar\n",
    "from quantopian.pipeline.classifiers.morningstar import Sector"
   ]
  },
  {
   "cell_type": "code",
   "execution_count": 32,
   "metadata": {},
   "outputs": [],
   "source": [
    "morningstar_sector = Sector()"
   ]
  },
  {
   "cell_type": "code",
   "execution_count": 33,
   "metadata": {},
   "outputs": [],
   "source": [
    "exchange = morningstar.share_class_reference.exchange_id.latest"
   ]
  },
  {
   "cell_type": "code",
   "execution_count": 34,
   "metadata": {},
   "outputs": [
    {
     "data": {
      "text/plain": [
       "Latest([share_class_reference<US>.exchange_id], 1)"
      ]
     },
     "execution_count": 34,
     "metadata": {},
     "output_type": "execute_result"
    }
   ],
   "source": [
    "exchange"
   ]
  },
  {
   "cell_type": "code",
   "execution_count": 35,
   "metadata": {},
   "outputs": [],
   "source": [
    "nyse_filter = exchange.eq('NYS')"
   ]
  },
  {
   "cell_type": "code",
   "execution_count": 36,
   "metadata": {},
   "outputs": [],
   "source": [
    "def make_pipeline():\n",
    "    \n",
    "    # Create Filters for Masks First\n",
    "    latest_close = USEquityPricing.close.latest\n",
    "    small_price = latest_close < 5\n",
    "    \n",
    "    # Classifier\n",
    "    nyse_filter = exchange.eq('NYS')\n",
    "    \n",
    "    # Pass in the mask\n",
    "    mean_close_10 = SimpleMovingAverage(inputs=[USEquityPricing.close],window_length=10,mask=small_price)\n",
    "    mean_close_30 = SimpleMovingAverage(inputs=[USEquityPricing.close],window_length=30,mask=small_price)\n",
    "    \n",
    "    \n",
    "    percent_difference = (mean_close_10-mean_close_30) / mean_close_30\n",
    "    \n",
    "    perc_diff_check = percent_difference > 0 \n",
    "    \n",
    "    \n",
    "    final_filter = perc_diff_check & nyse_filter\n",
    "    \n",
    "    return Pipeline(columns={\n",
    "                            'Percent Difference':percent_difference,\n",
    "                            '30 Day Mean Close':mean_close_30,\n",
    "                            'Latest Close':latest_close,\n",
    "                            'Positive Percent Diff': perc_diff_check},\n",
    "                    screen=final_filter)"
   ]
  },
  {
   "cell_type": "code",
   "execution_count": 37,
   "metadata": {},
   "outputs": [
    {
     "data": {
      "application/vnd.jupyter.widget-view+json": {
       "model_id": "",
       "version_major": 2,
       "version_minor": 0
      },
      "text/plain": []
     },
     "metadata": {},
     "output_type": "display_data"
    },
    {
     "data": {
      "text/html": [
       "<b>Pipeline Execution Time:</b> 2.34 Seconds"
      ],
      "text/plain": [
       "<IPython.core.display.HTML object>"
      ]
     },
     "metadata": {},
     "output_type": "display_data"
    },
    {
     "data": {
      "text/html": [
       "<div>\n",
       "<table border=\"1\" class=\"dataframe\">\n",
       "  <thead>\n",
       "    <tr style=\"text-align: right;\">\n",
       "      <th></th>\n",
       "      <th></th>\n",
       "      <th>30 Day Mean Close</th>\n",
       "      <th>Latest Close</th>\n",
       "      <th>Percent Difference</th>\n",
       "      <th>Positive Percent Diff</th>\n",
       "    </tr>\n",
       "  </thead>\n",
       "  <tbody>\n",
       "    <tr>\n",
       "      <th rowspan=\"5\" valign=\"top\">2017-01-03 00:00:00+00:00</th>\n",
       "      <th>Equity(2586 [EQS])</th>\n",
       "      <td>1.960533</td>\n",
       "      <td>2.020</td>\n",
       "      <td>0.022120</td>\n",
       "      <td>True</td>\n",
       "    </tr>\n",
       "    <tr>\n",
       "      <th>Equity(3265 [GLF])</th>\n",
       "      <td>1.576367</td>\n",
       "      <td>1.725</td>\n",
       "      <td>0.162420</td>\n",
       "      <td>True</td>\n",
       "    </tr>\n",
       "    <tr>\n",
       "      <th>Equity(3645 [HOV])</th>\n",
       "      <td>2.406667</td>\n",
       "      <td>2.735</td>\n",
       "      <td>0.176939</td>\n",
       "      <td>True</td>\n",
       "    </tr>\n",
       "    <tr>\n",
       "      <th>Equity(4577 [LUB])</th>\n",
       "      <td>4.292333</td>\n",
       "      <td>4.270</td>\n",
       "      <td>0.004116</td>\n",
       "      <td>True</td>\n",
       "    </tr>\n",
       "    <tr>\n",
       "      <th>Equity(4971 [RT])</th>\n",
       "      <td>3.244000</td>\n",
       "      <td>3.240</td>\n",
       "      <td>0.009094</td>\n",
       "      <td>True</td>\n",
       "    </tr>\n",
       "  </tbody>\n",
       "</table>\n",
       "</div>"
      ],
      "text/plain": [
       "                                              30 Day Mean Close  Latest Close  \\\n",
       "2017-01-03 00:00:00+00:00 Equity(2586 [EQS])           1.960533         2.020   \n",
       "                          Equity(3265 [GLF])           1.576367         1.725   \n",
       "                          Equity(3645 [HOV])           2.406667         2.735   \n",
       "                          Equity(4577 [LUB])           4.292333         4.270   \n",
       "                          Equity(4971 [RT])            3.244000         3.240   \n",
       "\n",
       "                                              Percent Difference  \\\n",
       "2017-01-03 00:00:00+00:00 Equity(2586 [EQS])            0.022120   \n",
       "                          Equity(3265 [GLF])            0.162420   \n",
       "                          Equity(3645 [HOV])            0.176939   \n",
       "                          Equity(4577 [LUB])            0.004116   \n",
       "                          Equity(4971 [RT])             0.009094   \n",
       "\n",
       "                                             Positive Percent Diff  \n",
       "2017-01-03 00:00:00+00:00 Equity(2586 [EQS])                  True  \n",
       "                          Equity(3265 [GLF])                  True  \n",
       "                          Equity(3645 [HOV])                  True  \n",
       "                          Equity(4577 [LUB])                  True  \n",
       "                          Equity(4971 [RT])                   True  "
      ]
     },
     "execution_count": 37,
     "metadata": {},
     "output_type": "execute_result"
    }
   ],
   "source": [
    "results = run_pipeline(make_pipeline(),'2017-01-01','2017-01-01')\n",
    "results.head()"
   ]
  },
  {
   "cell_type": "code",
   "execution_count": 38,
   "metadata": {},
   "outputs": [
    {
     "data": {
      "text/plain": [
       "66"
      ]
     },
     "execution_count": 38,
     "metadata": {},
     "output_type": "execute_result"
    }
   ],
   "source": [
    "len(results)"
   ]
  },
  {
   "cell_type": "code",
   "execution_count": 40,
   "metadata": {},
   "outputs": [
    {
     "data": {
      "text/plain": [
       "\"\\nfrom quantopian.pipeline import Pipeline\\nfrom quantopian.algorithm import attach_pipeline, pipeline_output\\n\\ndef initialize(context):\\n    my_pipe = make_pipeline()\\n    attach_pipeline(my_pipe, 'my_pipeline')\\n\\ndef make_pipeline():\\n    return Pipeline()\\n\\ndef before_trading_start(context, data):\\n    # Store our pipeline output DataFrame in context.\\n    context.output = pipeline_output('my_pipeline')\\n\""
      ]
     },
     "execution_count": 40,
     "metadata": {},
     "output_type": "execute_result"
    }
   ],
   "source": [
    "# Pipelines in Quantopian IDE\n",
    "'''\n",
    "from quantopian.pipeline import Pipeline\n",
    "from quantopian.algorithm import attach_pipeline, pipeline_output\n",
    "\n",
    "def initialize(context):\n",
    "    my_pipe = make_pipeline()\n",
    "    attach_pipeline(my_pipe, 'my_pipeline')\n",
    "\n",
    "def make_pipeline():\n",
    "    return Pipeline()\n",
    "\n",
    "def before_trading_start(context, data):\n",
    "    # Store our pipeline output DataFrame in context.\n",
    "    context.output = pipeline_output('my_pipeline')\n",
    "'''\n"
   ]
  },
  {
   "cell_type": "code",
   "execution_count": null,
   "metadata": {},
   "outputs": [],
   "source": []
  }
 ],
 "metadata": {
  "kernelspec": {
   "display_name": "Python 3.5",
   "language": "python",
   "name": "py35"
  },
  "language_info": {
   "codemirror_mode": {
    "name": "ipython",
    "version": 3
   },
   "file_extension": ".py",
   "mimetype": "text/x-python",
   "name": "python",
   "nbconvert_exporter": "python",
   "pygments_lexer": "ipython3",
   "version": "3.5.9"
  }
 },
 "nbformat": 4,
 "nbformat_minor": 2
}